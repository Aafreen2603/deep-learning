{
  "nbformat": 4,
  "nbformat_minor": 0,
  "metadata": {
    "colab": {
      "provenance": [],
      "authorship_tag": "ABX9TyNz6Q3sUQ/qP4pbE7GPzFmk",
      "include_colab_link": true
    },
    "kernelspec": {
      "name": "python3",
      "display_name": "Python 3"
    },
    "language_info": {
      "name": "python"
    }
  },
  "cells": [
    {
      "cell_type": "markdown",
      "metadata": {
        "id": "view-in-github",
        "colab_type": "text"
      },
      "source": [
        "<a href=\"https://colab.research.google.com/github/Aafreen2603/deep-learning/blob/main/RNN.ipynb\" target=\"_parent\"><img src=\"https://colab.research.google.com/assets/colab-badge.svg\" alt=\"Open In Colab\"/></a>"
      ]
    },
    {
      "cell_type": "code",
      "execution_count": null,
      "metadata": {
        "id": "6emBIqt6sw6B"
      },
      "outputs": [],
      "source": [
        "import torch\n",
        "import torch.nn as nn\n",
        "import numpy as np"
      ]
    },
    {
      "cell_type": "markdown",
      "source": [
        "### Explore the RNN type"
      ],
      "metadata": {
        "id": "YF468slctAtE"
      }
    },
    {
      "cell_type": "code",
      "source": [
        "# set layer parameters\n",
        "input_size = 9 # no. of features to extract (e.g. no of data channels)\n",
        "hidden_size = 16 # no. of units in the hidden state\n",
        "num_layers = 1 # no. of vertical stacks in hidden layers (note: only final layer gives an output)\n",
        "actfun = 'tanh'\n",
        "bias = True"
      ],
      "metadata": {
        "id": "OKbHgG4ws-e_"
      },
      "execution_count": null,
      "outputs": []
    },
    {
      "cell_type": "code",
      "source": [
        "# create an RNN instance\n",
        "rnn = nn.RNN(input_size,hidden_size,num_layers,nonlinearity=actfun,bias=bias)\n",
        "print(rnn)"
      ],
      "metadata": {
        "colab": {
          "base_uri": "https://localhost:8080/"
        },
        "id": "Xc2gtiEPtmBX",
        "outputId": "55a3ac2f-da05-4836-94ce-1397a719c985"
      },
      "execution_count": null,
      "outputs": [
        {
          "output_type": "stream",
          "name": "stdout",
          "text": [
            "RNN(9, 16)\n"
          ]
        }
      ]
    },
    {
      "cell_type": "code",
      "source": [
        "# check out the source code for more detailed info about this class\n",
        "nn.RNN"
      ],
      "metadata": {
        "colab": {
          "base_uri": "https://localhost:8080/"
        },
        "id": "GMIGYLQ8twPg",
        "outputId": "a1d73294-6b66-4030-97e3-34ac8270f3b4"
      },
      "execution_count": null,
      "outputs": [
        {
          "output_type": "execute_result",
          "data": {
            "text/plain": [
              "torch.nn.modules.rnn.RNN"
            ]
          },
          "metadata": {},
          "execution_count": 4
        }
      ]
    },
    {
      "cell_type": "code",
      "source": [
        "# set data parameters\n",
        "seqlength = 5\n",
        "batchsize = 2"
      ],
      "metadata": {
        "id": "Fo42aR6BtzXF"
      },
      "execution_count": null,
      "outputs": []
    },
    {
      "cell_type": "code",
      "source": [
        "# create some data\n",
        "X = torch.rand(seqlength,batchsize,input_size)"
      ],
      "metadata": {
        "id": "rQRtwAI7t1q7"
      },
      "execution_count": null,
      "outputs": []
    },
    {
      "cell_type": "code",
      "source": [
        "# create a hidden layer (typically initialized as zeros)\n",
        "hidden = torch.zeros(num_layers,batchsize,hidden_size)"
      ],
      "metadata": {
        "id": "SjAtKivut2Co"
      },
      "execution_count": null,
      "outputs": []
    },
    {
      "cell_type": "code",
      "source": [
        "# run some data through the model and show the output sizes\n",
        "y,h = rnn(X,hidden)\n",
        "print(f' Input shape: {list(X.shape)}')\n",
        "print(f'Hidden shape: {list(h.shape)}')\n",
        "print(f'Output shape: {list(y.shape)}')"
      ],
      "metadata": {
        "colab": {
          "base_uri": "https://localhost:8080/"
        },
        "id": "E0ONl7s9t3LS",
        "outputId": "5e6cf353-4b49-4f49-d9fd-7bbb633c9cfc"
      },
      "execution_count": null,
      "outputs": [
        {
          "output_type": "stream",
          "name": "stdout",
          "text": [
            " Input shape: [5, 2, 9]\n",
            "Hidden shape: [1, 2, 16]\n",
            "Output shape: [5, 2, 16]\n"
          ]
        }
      ]
    },
    {
      "cell_type": "code",
      "source": [
        "## Default hidden state is all zeros if nothing specified:\n",
        "y,h1 = rnn(X,hidden)\n",
        "print(h1), print('\\n\\n')"
      ],
      "metadata": {
        "colab": {
          "base_uri": "https://localhost:8080/"
        },
        "id": "0yK4lyvVt5AY",
        "outputId": "232e102a-2303-412d-82af-03ff4d45bcfc"
      },
      "execution_count": null,
      "outputs": [
        {
          "output_type": "stream",
          "name": "stdout",
          "text": [
            "tensor([[[ 0.0969,  0.4915,  0.2633, -0.1885, -0.3025, -0.1939,  0.1583,\n",
            "           0.3139,  0.2542,  0.5571,  0.5691,  0.2618,  0.3612,  0.0586,\n",
            "          -0.4617,  0.1753],\n",
            "         [ 0.4404,  0.3500,  0.2555,  0.1649, -0.4627,  0.2182, -0.1873,\n",
            "           0.2826, -0.0714,  0.6613,  0.2401, -0.3291,  0.5788,  0.2645,\n",
            "          -0.4951, -0.1928]]], grad_fn=<StackBackward0>)\n",
            "\n",
            "\n",
            "\n"
          ]
        },
        {
          "output_type": "execute_result",
          "data": {
            "text/plain": [
              "(None, None)"
            ]
          },
          "metadata": {},
          "execution_count": 9
        }
      ]
    },
    {
      "cell_type": "code",
      "source": [
        "y,h2 = rnn(X)\n",
        "print(h2), print('\\n\\n')"
      ],
      "metadata": {
        "colab": {
          "base_uri": "https://localhost:8080/"
        },
        "id": "MW2sWtNDt6RX",
        "outputId": "459df09c-07f7-4d19-da77-38377e564a73"
      },
      "execution_count": null,
      "outputs": [
        {
          "output_type": "stream",
          "name": "stdout",
          "text": [
            "tensor([[[ 0.0969,  0.4915,  0.2633, -0.1885, -0.3025, -0.1939,  0.1583,\n",
            "           0.3139,  0.2542,  0.5571,  0.5691,  0.2618,  0.3612,  0.0586,\n",
            "          -0.4617,  0.1753],\n",
            "         [ 0.4404,  0.3500,  0.2555,  0.1649, -0.4627,  0.2182, -0.1873,\n",
            "           0.2826, -0.0714,  0.6613,  0.2401, -0.3291,  0.5788,  0.2645,\n",
            "          -0.4951, -0.1928]]], grad_fn=<StackBackward0>)\n",
            "\n",
            "\n",
            "\n"
          ]
        },
        {
          "output_type": "execute_result",
          "data": {
            "text/plain": [
              "(None, None)"
            ]
          },
          "metadata": {},
          "execution_count": 10
        }
      ]
    },
    {
      "cell_type": "code",
      "source": [
        "# they're the same! (meaning default=zeros)\n",
        "print(h1-h2)"
      ],
      "metadata": {
        "colab": {
          "base_uri": "https://localhost:8080/"
        },
        "id": "0QP2EM2et7jJ",
        "outputId": "96fb265c-cc87-45a8-9bbb-9b9ca2473c46"
      },
      "execution_count": null,
      "outputs": [
        {
          "output_type": "stream",
          "name": "stdout",
          "text": [
            "tensor([[[0., 0., 0., 0., 0., 0., 0., 0., 0., 0., 0., 0., 0., 0., 0., 0.],\n",
            "         [0., 0., 0., 0., 0., 0., 0., 0., 0., 0., 0., 0., 0., 0., 0., 0.]]],\n",
            "       grad_fn=<SubBackward0>)\n"
          ]
        }
      ]
    },
    {
      "cell_type": "code",
      "source": [
        "# Check out the learned parameters and their sizes\n",
        "for p in rnn.named_parameters():\n",
        "  if 'weight' in p[0]:\n",
        "    print(f'{p[0]} has size {list(p[1].shape)}')"
      ],
      "metadata": {
        "colab": {
          "base_uri": "https://localhost:8080/"
        },
        "id": "HeOsbnDzt8zh",
        "outputId": "48f0c087-e636-4008-c67f-2de056f373bb"
      },
      "execution_count": null,
      "outputs": [
        {
          "output_type": "stream",
          "name": "stdout",
          "text": [
            "weight_ih_l0 has size [16, 9]\n",
            "weight_hh_l0 has size [16, 16]\n"
          ]
        }
      ]
    },
    {
      "cell_type": "markdown",
      "source": [
        "Create a DL model class"
      ],
      "metadata": {
        "id": "n0_LTUYuuA5Q"
      }
    },
    {
      "cell_type": "code",
      "source": [
        "class RNNnet(nn.Module):\n",
        "  def __init__(self,input_size,num_hidden,num_layers):\n",
        "    super().__init__()\n",
        "\n",
        "    # store parameters\n",
        "    self.input_size = input_size\n",
        "    self.num_hidden = num_hidden\n",
        "    self.num_layers = num_layers\n",
        "\n",
        "    # RNN Layer\n",
        "    self.rnn = nn.RNN(input_size,num_hidden,num_layers)\n",
        "\n",
        "    # linear layer for output\n",
        "    self.out = nn.Linear(num_hidden,1)\n",
        "  \n",
        "  def forward(self,x):\n",
        "    print(f'Input: {list(x.shape)}')\n",
        "\n",
        "    # initialize hidden state for first input\n",
        "    hidden = torch.zeros(self.num_layers,batchsize,self.num_hidden)\n",
        "    print(f'Hidden: {list(hidden.shape)}')\n",
        "\n",
        "    # run through the RNN layer\n",
        "    y,hidden = self.rnn(x,hidden)\n",
        "    print(f'RNN-out: {list(y.shape)}')\n",
        "    print(f'RNN-hidden: {list(hidden.shape)}')\n",
        "    \n",
        "    # pass the RNN output through the linear output layer\n",
        "    o = self.out(y)\n",
        "    print(f'Output: {list(o.shape)}')\n",
        "    return o,hidden"
      ],
      "metadata": {
        "id": "v1qzpyCut-a9"
      },
      "execution_count": null,
      "outputs": []
    },
    {
      "cell_type": "code",
      "source": [
        "# create an instance of the model and inspect\n",
        "net = RNNnet(input_size,hidden_size,num_layers)\n",
        "print(net), print(' ')"
      ],
      "metadata": {
        "colab": {
          "base_uri": "https://localhost:8080/"
        },
        "id": "doh4NYahuPsd",
        "outputId": "153e4d9b-c936-4148-a388-0f6543f7979c"
      },
      "execution_count": null,
      "outputs": [
        {
          "output_type": "stream",
          "name": "stdout",
          "text": [
            "RNNnet(\n",
            "  (rnn): RNN(9, 16)\n",
            "  (out): Linear(in_features=16, out_features=1, bias=True)\n",
            ")\n",
            " \n"
          ]
        },
        {
          "output_type": "execute_result",
          "data": {
            "text/plain": [
              "(None, None)"
            ]
          },
          "metadata": {},
          "execution_count": 16
        }
      ]
    },
    {
      "cell_type": "code",
      "source": [
        "# and check out all learnable parameters\n",
        "for p in net.named_parameters():\n",
        "  print(f'{p[0]} has size {list(p[1].shape)}')"
      ],
      "metadata": {
        "colab": {
          "base_uri": "https://localhost:8080/"
        },
        "id": "MqoUxRRAuUsW",
        "outputId": "32ab1e94-fdad-469b-e7a8-04076ebebeea"
      },
      "execution_count": null,
      "outputs": [
        {
          "output_type": "stream",
          "name": "stdout",
          "text": [
            "rnn.weight_ih_l0 has size [16, 9]\n",
            "rnn.weight_hh_l0 has size [16, 16]\n",
            "rnn.bias_ih_l0 has size [16]\n",
            "rnn.bias_hh_l0 has size [16]\n",
            "out.weight has size [1, 16]\n",
            "out.bias has size [1]\n"
          ]
        }
      ]
    },
    {
      "cell_type": "code",
      "source": [
        "# test the model with some data\n",
        "# create some data\n",
        "X = torch.rand(seqlength,batchsize,input_size)\n",
        "y = torch.rand(seqlength,batchsize,1)\n",
        "yHat,h = net(X)"
      ],
      "metadata": {
        "colab": {
          "base_uri": "https://localhost:8080/"
        },
        "id": "VXfT9DNouWGd",
        "outputId": "6bad0c01-6b27-43a5-abef-5715184e0813"
      },
      "execution_count": null,
      "outputs": [
        {
          "output_type": "stream",
          "name": "stdout",
          "text": [
            "Input: [5, 2, 9]\n",
            "Hidden: [1, 2, 16]\n",
            "RNN-out: [5, 2, 16]\n",
            "RNN-hidden: [1, 2, 16]\n",
            "Output: [5, 2, 1]\n"
          ]
        }
      ]
    },
    {
      "cell_type": "code",
      "source": [
        "# try a loss function\n",
        "lossfun = nn.MSELoss()\n",
        "lossfun(yHat,y)"
      ],
      "metadata": {
        "colab": {
          "base_uri": "https://localhost:8080/"
        },
        "id": "mP1a4l1Nugau",
        "outputId": "a417d82a-4942-458a-bf4d-75027c44c980"
      },
      "execution_count": null,
      "outputs": [
        {
          "output_type": "execute_result",
          "data": {
            "text/plain": [
              "tensor(0.7185, grad_fn=<MseLossBackward0>)"
            ]
          },
          "metadata": {},
          "execution_count": 23
        }
      ]
    },
    {
      "cell_type": "code",
      "source": [],
      "metadata": {
        "id": "nTcvY-p1ut8e"
      },
      "execution_count": null,
      "outputs": []
    }
  ]
}