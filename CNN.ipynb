{
  "nbformat": 4,
  "nbformat_minor": 0,
  "metadata": {
    "colab": {
      "provenance": [],
      "authorship_tag": "ABX9TyNFTL/VlMA3BG0IadpPQrD7",
      "include_colab_link": true
    },
    "kernelspec": {
      "name": "python3",
      "display_name": "Python 3"
    },
    "language_info": {
      "name": "python"
    }
  },
  "cells": [
    {
      "cell_type": "markdown",
      "metadata": {
        "id": "view-in-github",
        "colab_type": "text"
      },
      "source": [
        "<a href=\"https://colab.research.google.com/github/Aafreen2603/deep-learning/blob/main/CNN.ipynb\" target=\"_parent\"><img src=\"https://colab.research.google.com/assets/colab-badge.svg\" alt=\"Open In Colab\"/></a>"
      ]
    },
    {
      "cell_type": "code",
      "source": [
        "try:\n",
        "  %tensorflow_version 2.x \n",
        "except Exception:\n",
        "  pass\n",
        "\n",
        "import tensorflow as tf\n",
        "print(tf.__version__)"
      ],
      "metadata": {
        "colab": {
          "base_uri": "https://localhost:8080/"
        },
        "id": "4sXH7vL5wxOb",
        "outputId": "ed953a18-878d-4145-b117-426d379b8880"
      },
      "execution_count": null,
      "outputs": [
        {
          "output_type": "stream",
          "name": "stdout",
          "text": [
            "Colab only includes TensorFlow 2.x; %tensorflow_version has no effect.\n",
            "2.11.0\n"
          ]
        }
      ]
    },
    {
      "cell_type": "code",
      "execution_count": null,
      "metadata": {
        "id": "_ahtkOkVsAdj"
      },
      "outputs": [],
      "source": [
        "import numpy as np\n",
        "import matplotlib.pyplot as plt\n",
        "from tensorflow.keras.layers import Input, Conv2D, Dense, Flatten, Dropout\n",
        "from tensorflow.keras.models import Model"
      ]
    },
    {
      "cell_type": "code",
      "source": [
        "fashion_mnist=tf.keras.datasets.fashion_mnist\n",
        "(x_train, y_train), (x_test,y_test)= fashion_mnist.load_data()\n",
        "x_train, x_test= x_train/255.0, x_test/255.0\n",
        "print(\"x_train.shape:\", x_train.shape)"
      ],
      "metadata": {
        "colab": {
          "base_uri": "https://localhost:8080/"
        },
        "id": "4oTZsqDxwU_q",
        "outputId": "e0ee03e3-3730-47ee-d4c2-81bad01213d1"
      },
      "execution_count": null,
      "outputs": [
        {
          "output_type": "stream",
          "name": "stdout",
          "text": [
            "Downloading data from https://storage.googleapis.com/tensorflow/tf-keras-datasets/train-labels-idx1-ubyte.gz\n",
            "29515/29515 [==============================] - 0s 0us/step\n",
            "Downloading data from https://storage.googleapis.com/tensorflow/tf-keras-datasets/train-images-idx3-ubyte.gz\n",
            "26421880/26421880 [==============================] - 0s 0us/step\n",
            "Downloading data from https://storage.googleapis.com/tensorflow/tf-keras-datasets/t10k-labels-idx1-ubyte.gz\n",
            "5148/5148 [==============================] - 0s 0us/step\n",
            "Downloading data from https://storage.googleapis.com/tensorflow/tf-keras-datasets/t10k-images-idx3-ubyte.gz\n",
            "4422102/4422102 [==============================] - 0s 0us/step\n",
            "x_train.shape: (60000, 28, 28)\n"
          ]
        }
      ]
    },
    {
      "cell_type": "code",
      "source": [
        "x_train=np.expand_dims(x_train, -1)\n",
        "x_test = np.expand_dims(x_test, -1)\n",
        "print(x_train.shape)"
      ],
      "metadata": {
        "colab": {
          "base_uri": "https://localhost:8080/"
        },
        "id": "UZRcu8ANwVIA",
        "outputId": "2064436f-19a9-42e3-e9cc-f3e0a3bdfba6"
      },
      "execution_count": null,
      "outputs": [
        {
          "output_type": "stream",
          "name": "stdout",
          "text": [
            "(60000, 28, 28, 1)\n"
          ]
        }
      ]
    },
    {
      "cell_type": "code",
      "source": [
        "K=len(set(y_train))\n",
        "print(\"Number of Classes: \", K)"
      ],
      "metadata": {
        "colab": {
          "base_uri": "https://localhost:8080/"
        },
        "id": "yunFjwOXwVK3",
        "outputId": "a6374f22-fc77-48e9-d85d-4d7900b112e9"
      },
      "execution_count": null,
      "outputs": [
        {
          "output_type": "stream",
          "name": "stdout",
          "text": [
            "Number of Classes:  10\n"
          ]
        }
      ]
    },
    {
      "cell_type": "code",
      "source": [
        "i= Input(shape=x_train[0].shape)\n",
        "x=Conv2D(32,(3,3),strides=2, activation = 'relu')(i)\n",
        "x=Conv2D(64, (3,3), strides=2, activation ='relu')(x)\n",
        "x=Conv2D(128, (3,3), strides=2, activation ='relu')(x)\n",
        "x=Flatten()(x)\n",
        "x=Dropout(0.2)(x)\n",
        "x=Dense(512, activation ='softmax')(x)\n",
        "\n",
        "model=Model(i,x)"
      ],
      "metadata": {
        "id": "GoDzIwoPwVNB"
      },
      "execution_count": null,
      "outputs": []
    },
    {
      "cell_type": "code",
      "source": [
        "model.compile(optimizer='adam', loss='sparse_categorical_crossentropy',\n",
        "              metrics=['accuracy'])\n",
        "r= model.fit(x_train, y_train, validation_data=(x_test,y_test), epochs =15)"
      ],
      "metadata": {
        "colab": {
          "base_uri": "https://localhost:8080/"
        },
        "id": "ZtiQx8wwwVQb",
        "outputId": "9b4fa639-c1e0-45b5-9cb9-9e0749196c36"
      },
      "execution_count": null,
      "outputs": [
        {
          "output_type": "stream",
          "name": "stdout",
          "text": [
            "Epoch 1/15\n",
            "1875/1875 [==============================] - 44s 23ms/step - loss: 0.6053 - accuracy: 0.7880 - val_loss: 0.4347 - val_accuracy: 0.8429\n",
            "Epoch 2/15\n",
            "1875/1875 [==============================] - 34s 18ms/step - loss: 0.3881 - accuracy: 0.8571 - val_loss: 0.3620 - val_accuracy: 0.8693\n",
            "Epoch 3/15\n",
            "1875/1875 [==============================] - 37s 20ms/step - loss: 0.3361 - accuracy: 0.8757 - val_loss: 0.3253 - val_accuracy: 0.8811\n",
            "Epoch 4/15\n",
            "1875/1875 [==============================] - 35s 19ms/step - loss: 0.3030 - accuracy: 0.8882 - val_loss: 0.3094 - val_accuracy: 0.8868\n",
            "Epoch 5/15\n",
            "1875/1875 [==============================] - 35s 19ms/step - loss: 0.2753 - accuracy: 0.8977 - val_loss: 0.3195 - val_accuracy: 0.8844\n",
            "Epoch 6/15\n",
            "1875/1875 [==============================] - 36s 19ms/step - loss: 0.2554 - accuracy: 0.9061 - val_loss: 0.3021 - val_accuracy: 0.8880\n",
            "Epoch 7/15\n",
            "1875/1875 [==============================] - 35s 19ms/step - loss: 0.2366 - accuracy: 0.9120 - val_loss: 0.2997 - val_accuracy: 0.8914\n",
            "Epoch 8/15\n",
            "1875/1875 [==============================] - 35s 19ms/step - loss: 0.2218 - accuracy: 0.9164 - val_loss: 0.2905 - val_accuracy: 0.8969\n",
            "Epoch 9/15\n",
            "1875/1875 [==============================] - 35s 19ms/step - loss: 0.2076 - accuracy: 0.9236 - val_loss: 0.2853 - val_accuracy: 0.9005\n",
            "Epoch 10/15\n",
            "1875/1875 [==============================] - 39s 21ms/step - loss: 0.1945 - accuracy: 0.9274 - val_loss: 0.2996 - val_accuracy: 0.8947\n",
            "Epoch 11/15\n",
            "1875/1875 [==============================] - 36s 19ms/step - loss: 0.1802 - accuracy: 0.9327 - val_loss: 0.3022 - val_accuracy: 0.8961\n",
            "Epoch 12/15\n",
            "1875/1875 [==============================] - 35s 19ms/step - loss: 0.1710 - accuracy: 0.9357 - val_loss: 0.3031 - val_accuracy: 0.9001\n",
            "Epoch 13/15\n",
            "1875/1875 [==============================] - 35s 19ms/step - loss: 0.1601 - accuracy: 0.9391 - val_loss: 0.3279 - val_accuracy: 0.8961\n",
            "Epoch 14/15\n",
            "1875/1875 [==============================] - 39s 21ms/step - loss: 0.1516 - accuracy: 0.9435 - val_loss: 0.3261 - val_accuracy: 0.8992\n",
            "Epoch 15/15\n",
            "1875/1875 [==============================] - 36s 19ms/step - loss: 0.1425 - accuracy: 0.9472 - val_loss: 0.3274 - val_accuracy: 0.8994\n"
          ]
        }
      ]
    },
    {
      "cell_type": "code",
      "source": [
        "import matplotlib.pyplot as plt\n",
        "plt.plot(r.history['loss'],label='loss')\n",
        "plt.plot(r.history['val_loss'], label='val_loss')\n",
        "plt.legend()"
      ],
      "metadata": {
        "colab": {
          "base_uri": "https://localhost:8080/",
          "height": 282
        },
        "id": "TDtcEcOywbCx",
        "outputId": "bec22fae-46fd-4fc6-cbc4-8474ae7a5649"
      },
      "execution_count": null,
      "outputs": [
        {
          "output_type": "execute_result",
          "data": {
            "text/plain": [
              "<matplotlib.legend.Legend at 0x7f235406a100>"
            ]
          },
          "metadata": {},
          "execution_count": 14
        },
        {
          "output_type": "display_data",
          "data": {
            "text/plain": [
              "<Figure size 432x288 with 1 Axes>"
            ],
            "image/png": "[encoded data removed]"
          },
          "metadata": {
            "needs_background": "light"
          }
        }
      ]
    },
    {
      "cell_type": "code",
      "source": [
        "plt.plot(r.history['accuracy'],label='acc')\n",
        "plt.plot(r.history['val_accuracy'], label='val_acc')\n",
        "plt.legend()"
      ],
      "metadata": {
        "colab": {
          "base_uri": "https://localhost:8080/",
          "height": 282
        },
        "id": "s3AU1ruTwbFX",
        "outputId": "f43edad7-9ddc-45c8-e797-e346c06dab5a"
      },
      "execution_count": null,
      "outputs": [
        {
          "output_type": "execute_result",
          "data": {
            "text/plain": [
              "<matplotlib.legend.Legend at 0x7f23760d3fd0>"
            ]
          },
          "metadata": {},
          "execution_count": 15
        },
        {
          "output_type": "display_data",
          "data": {
            "text/plain": [
              "<Figure size 432x288 with 1 Axes>"
            ],
            "image/png": "[encoded data removed]"
          },
          "metadata": {
            "needs_background": "light"
          }
        }
      ]
    },
    {
      "cell_type": "code",
      "source": [
        "# plot confusion matrix\n",
        "from sklearn.metrics import confusion_matrix\n",
        "import itertools\n",
        "\n",
        "def plot_confusion_matrix(cm,classes,\n",
        "                          normalize=False,\n",
        "                          title='Confusion Matrix',\n",
        "                          cmap=plt.cm.Blues):\n",
        "  # function prints and plots confusion matrix.\n",
        "  # normalization can be applied using 'normalize=True'\n",
        "  if normalize:\n",
        "    cm = cm.aspect('float')/cm.sum(axis=1)[:,np.newaxis]\n",
        "    print('Normalized confusion matrix')\n",
        "  else:\n",
        "    print('confusion matrix, without normalization')\n",
        "\n",
        "  print(cm)\n",
        "\n",
        "  plt.imshow(cm, interpolation='nearest', cmap=cmap)\n",
        "  plt.title('title')\n",
        "  plt.colorbar()\n",
        "  tick_marks = np.arange(len(classes))\n",
        "  plt.xticks(tick_marks,classes,rotation=45)\n",
        "  plt.yticks(tick_marks,classes)\n",
        "\n",
        "  fmt = '.2f' if normalize else 'd'\n",
        "  thresh = cm.max()/2.\n",
        "  for i,j in itertools.product(range(cm.shape[0]),range(cm.shape[1])):\n",
        "    plt.text(j,i,format(cm[i,j],fmt),\n",
        "             horizontalalignment=\"center\",\n",
        "             color='white' if cm[i,j]>thresh else 'black')\n",
        "  plt.tight_layout()\n",
        "  plt.ylabel('True label')\n",
        "  plt.xlabel('Predicted label')\n",
        "  plt.show()\n",
        "\n",
        "p_test = model.predict(x_test).argmax(axis=1)\n",
        "cm = confusion_matrix(y_test, p_test)\n",
        "plot_confusion_matrix(cm,list(range(10)))"
      ],
      "metadata": {
        "colab": {
          "base_uri": "https://localhost:8080/",
          "height": 519
        },
        "id": "z6aQjtqcsHil",
        "outputId": "d16da76c-7b4d-4e81-f265-f1ae14194fd6"
      },
      "execution_count": null,
      "outputs": [
        {
          "output_type": "stream",
          "name": "stdout",
          "text": [
            "313/313 [==============================] - 2s 5ms/step\n",
            "confusion matrix, without normalization\n",
            "[[828   1  37  11   5   1 110   0   7   0]\n",
            " [  3 975   1  16   2   0   2   0   1   0]\n",
            " [  9   0 880   9  45   0  56   0   1   0]\n",
            " [  9   9  20 888  41   0  32   0   1   0]\n",
            " [  1   1  63  20 845   0  67   0   3   0]\n",
            " [  1   0   0   1   0 977   0  15   0   6]\n",
            " [ 94   0  75  19  86   0 719   0   7   0]\n",
            " [  0   0   0   0   0  16   0 959   0  25]\n",
            " [  4   1   4   3   5   5   3   2 971   2]\n",
            " [  0   0   0   0   0   9   1  37   1 952]]\n"
          ]
        },
        {
          "output_type": "display_data",
          "data": {
            "text/plain": [
              "<Figure size 432x288 with 2 Axes>"
            ],
            "image/png": "[encoded data removed]"
          },
          "metadata": {
            "needs_background": "light"
          }
        }
      ]
    },
    {
      "cell_type": "code",
      "source": [
        "labels= '''T-shirt/top\n",
        "Trouser\n",
        "Pullover\n",
        "Dress\n",
        "Coat\n",
        "Sandal\n",
        "Shirt\n",
        "Sneaker\n",
        "Bag\n",
        "Ankle boot'''.split('\\n')"
      ],
      "metadata": {
        "id": "xnB9pJc-uZWr"
      },
      "execution_count": null,
      "outputs": []
    },
    {
      "cell_type": "code",
      "source": [
        "# show some misclassified examples\n",
        "misclassified_idx = np.where(p_test != y_test)[0]\n",
        "i = np.random.choice(misclassified_idx)\n",
        "plt.imshow(x_test[i].reshape(28,28),cmap='gray')\n",
        "plt.title('True label: %s' %(labels[y_test[i]],labels[p_test[i]]));"
      ],
      "metadata": {
        "colab": {
          "base_uri": "https://localhost:8080/",
          "height": 449
        },
        "id": "TOvprGSFupjf",
        "outputId": "2bd1f3af-9c70-48df-ed88-fee77c055da8"
      },
      "execution_count": null,
      "outputs": [
        {
          "output_type": "error",
          "ename": "TypeError",
          "evalue": "ignored",
          "traceback": [
            "\u001b[0;31m---------------------------------------------------------------------------\u001b[0m",
            "\u001b[0;31mTypeError\u001b[0m                                 Traceback (most recent call last)",
            "\u001b[0;32m<ipython-input-19-1587eb094fa3>\u001b[0m in \u001b[0;36m<module>\u001b[0;34m\u001b[0m\n\u001b[1;32m      3\u001b[0m \u001b[0mi\u001b[0m \u001b[0;34m=\u001b[0m \u001b[0mnp\u001b[0m\u001b[0;34m.\u001b[0m\u001b[0mrandom\u001b[0m\u001b[0;34m.\u001b[0m\u001b[0mchoice\u001b[0m\u001b[0;34m(\u001b[0m\u001b[0mmisclassified_idx\u001b[0m\u001b[0;34m)\u001b[0m\u001b[0;34m\u001b[0m\u001b[0;34m\u001b[0m\u001b[0m\n\u001b[1;32m      4\u001b[0m \u001b[0mplt\u001b[0m\u001b[0;34m.\u001b[0m\u001b[0mimshow\u001b[0m\u001b[0;34m(\u001b[0m\u001b[0mx_test\u001b[0m\u001b[0;34m[\u001b[0m\u001b[0mi\u001b[0m\u001b[0;34m]\u001b[0m\u001b[0;34m.\u001b[0m\u001b[0mreshape\u001b[0m\u001b[0;34m(\u001b[0m\u001b[0;36m28\u001b[0m\u001b[0;34m,\u001b[0m\u001b[0;36m28\u001b[0m\u001b[0;34m)\u001b[0m\u001b[0;34m,\u001b[0m\u001b[0mcmap\u001b[0m\u001b[0;34m=\u001b[0m\u001b[0;34m'gray'\u001b[0m\u001b[0;34m)\u001b[0m\u001b[0;34m\u001b[0m\u001b[0;34m\u001b[0m\u001b[0m\n\u001b[0;32m----> 5\u001b[0;31m \u001b[0mplt\u001b[0m\u001b[0;34m.\u001b[0m\u001b[0mtitle\u001b[0m\u001b[0;34m(\u001b[0m\u001b[0;34m'True label: %s'\u001b[0m \u001b[0;34m%\u001b[0m\u001b[0;34m(\u001b[0m\u001b[0mlabels\u001b[0m\u001b[0;34m[\u001b[0m\u001b[0my_test\u001b[0m\u001b[0;34m[\u001b[0m\u001b[0mi\u001b[0m\u001b[0;34m]\u001b[0m\u001b[0;34m]\u001b[0m\u001b[0;34m,\u001b[0m\u001b[0mlabels\u001b[0m\u001b[0;34m[\u001b[0m\u001b[0mp_test\u001b[0m\u001b[0;34m[\u001b[0m\u001b[0mi\u001b[0m\u001b[0;34m]\u001b[0m\u001b[0;34m]\u001b[0m\u001b[0;34m)\u001b[0m\u001b[0;34m)\u001b[0m\u001b[0;34m;\u001b[0m\u001b[0;34m\u001b[0m\u001b[0;34m\u001b[0m\u001b[0m\n\u001b[0m",
            "\u001b[0;31mTypeError\u001b[0m: not all arguments converted during string formatting"
          ]
        },
        {
          "output_type": "display_data",
          "data": {
            "text/plain": [
              "<Figure size 432x288 with 1 Axes>"
            ],
            "image/png": "[encoded data removed]"
          },
          "metadata": {
            "needs_background": "light"
          }
        }
      ]
    },
    {
      "cell_type": "code",
      "source": [],
      "metadata": {
        "id": "YjUiffFcvKre"
      },
      "execution_count": null,
      "outputs": []
    }
  ]
}