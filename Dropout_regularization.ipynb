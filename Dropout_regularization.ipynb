{
  "nbformat": 4,
  "nbformat_minor": 0,
  "metadata": {
    "colab": {
      "provenance": [],
      "authorship_tag": "ABX9TyOrZXEON+qV67lpJ8Puf78m",
      "include_colab_link": true
    },
    "kernelspec": {
      "name": "python3",
      "display_name": "Python 3"
    },
    "language_info": {
      "name": "python"
    }
  },
  "cells": [
    {
      "cell_type": "markdown",
      "metadata": {
        "id": "view-in-github",
        "colab_type": "text"
      },
      "source": [
        "<a href=\"https://colab.research.google.com/github/Aafreen2603/deep-learning/blob/main/Dropout_regularization.ipynb\" target=\"_parent\"><img src=\"https://colab.research.google.com/assets/colab-badge.svg\" alt=\"Open In Colab\"/></a>"
      ]
    },
    {
      "cell_type": "markdown",
      "source": [
        "Develop an ANN model to analyze the implementation of Dropout as regularization.\n"
      ],
      "metadata": {
        "id": "2vf7dOtDoyJN"
      }
    },
    {
      "cell_type": "code",
      "execution_count": null,
      "metadata": {
        "id": "tgaCz6JuopTr"
      },
      "outputs": [],
      "source": [
        "import torch\n",
        "import torch.nn as nn\n",
        "import torch.nn.functional as F\n",
        "import numpy as np\n",
        "import matplotlib.pyplot as plt"
      ]
    },
    {
      "cell_type": "code",
      "source": [
        "from sklearn.model_selection import train_test_split\n",
        "from torch.utils.data import DataLoader, TensorDataset"
      ],
      "metadata": {
        "id": "N4oX9l2Nozec"
      },
      "execution_count": null,
      "outputs": []
    },
    {
      "cell_type": "markdown",
      "source": [
        "Creating data"
      ],
      "metadata": {
        "id": "TLldsUib10MP"
      }
    },
    {
      "cell_type": "code",
      "source": [
        "nPerClust = 200\n",
        "\n",
        "th = np.linspace(0,4*np.pi,nPerClust)\n",
        "r1 = 10\n",
        "r2 = 15\n",
        "\n",
        "a = [ r1*np.cos(th) + np.random.randn(nPerClust)*3, \n",
        "      r1*np.sin(th) + np.random.randn(nPerClust) ]\n",
        "b = [ r2*np.cos(th) + np.random.randn(nPerClust), \n",
        "      r2*np.sin(th) + np.random.randn(nPerClust)*3 ]\n",
        "\n",
        "#true labels\n",
        "labels_np = np.vstack((np.zeros((nPerClust,1)),np.ones((nPerClust,1)))) \n",
        "\n",
        "# concatenate into a matrix\n",
        "data_np = np.hstack((a,b)).T\n",
        "\n",
        "# convert to pytorch tensor\n",
        "data = torch.tensor(data_np).float()\n",
        "labels = torch.tensor(labels_np).float()"
      ],
      "metadata": {
        "id": "cWM2QMZE1yW3"
      },
      "execution_count": null,
      "outputs": []
    },
    {
      "cell_type": "code",
      "source": [],
      "metadata": {
        "id": "Z7hEhld43b0-"
      },
      "execution_count": null,
      "outputs": []
    }
  ]
}